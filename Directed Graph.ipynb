{
 "cells": [
  {
   "cell_type": "markdown",
   "id": "90fff5a4",
   "metadata": {},
   "source": [
    "# Graph Oluşturma"
   ]
  },
  {
   "cell_type": "markdown",
   "id": "9294c5be",
   "metadata": {},
   "source": [
    "Bu script donanımsal kısıtlardan dolayı colab de çalıştırılmıştır."
   ]
  },
  {
   "cell_type": "code",
   "execution_count": null,
   "id": "747a7363",
   "metadata": {},
   "outputs": [],
   "source": [
    "import pandas as pd\n",
    "import networkx as nx\n",
    "from tqdm import tqdm\n",
    "from geopy.distance import great_circle\n",
    "import re\n",
    "import numpy as np\n",
    "from sklearn.model_selection import train_test_split\n",
    "from sklearn.ensemble import RandomForestClassifier\n",
    "from sklearn.metrics import classification_report, accuracy_score, confusion_matrix,precision_score, recall_score, f1_score\n",
    "import matplotlib.pyplot as plt\n",
    "import seaborn as sns\n",
    "\n",
    "# --- Adım 1: Tüm Yenilikçi Özellikleri Oluşturma ---\n",
    "\n",
    "df = pd.read_csv('atlanta_cleaned_data.csv')\n",
    "df['Start_Time'] = pd.to_datetime(df['Start_Time'], errors='coerce')\n",
    "df.dropna(subset=['Start_Time'], inplace=True)\n",
    "\n",
    "\n",
    "# --- 1a: Şiddet Ağırlıklı Sokak Ağı Özelliği ---\n",
    "print(\"--- Bölüm A: Şiddet Ağırlıklı Sokak Ağı Özelliği oluşturuluyor ---\")\n",
    "junction_df = df[df['Junction'] == True].dropna(subset=['Description', 'Street']).copy()\n",
    "edge_list_with_severity = []\n",
    "pattern = re.compile(r' on (.+?)(?: at | & )(.+?)(?: - | \\.|,|$)')\n",
    "\n",
    "for index, row in tqdm(junction_df.iterrows(), total=junction_df.shape[0]):\n",
    "    match = pattern.search(row['Description'])\n",
    "    if match:\n",
    "        street1, street2 = match.group(1).strip(), match.group(2).strip()\n",
    "        if len(street1) > 2 and len(street2) > 2:\n",
    "            edge_list_with_severity.append(tuple(sorted((street1, street2))) + (row['Severity'],))\n",
    "\n",
    "severity_edge_df = pd.DataFrame(edge_list_with_severity, columns=['Sokak_1', 'Sokak_2', 'Severity'])\n",
    "severity_weighted_edges = severity_edge_df.groupby(['Sokak_1', 'Sokak_2']).agg(severity_sum=('Severity', 'sum')).reset_index()\n",
    "G_severity_weighted = nx.from_pandas_edgelist(severity_weighted_edges, 'Sokak_1', 'Sokak_2', edge_attr='severity_sum')\n",
    "degree_centrality_severity = {node: val for node, val in G_severity_weighted.degree(weight='severity_sum')}\n",
    "df['Severity_Degree_Score'] = df['Street'].map(degree_centrality_severity).fillna(0)\n",
    "print(\"-> 'Severity_Degree_Score' özelliği oluşturuldu.\\n\")\n",
    "\n",
    "\n",
    "# --- 1b: Kaza Yayılım Ağı Özellikleri ---\n",
    "print(\"--- Bölüm B: Kaza Yayılım Ağı Özellikleri oluşturuluyor ---\")\n",
    "df.sort_values(by='Start_Time', inplace=True)\n",
    "df.reset_index(drop=True, inplace=True)\n",
    "\n",
    "coords = df[['Start_Lat', 'Start_Lng']].values\n",
    "times = pd.to_datetime(df['Start_Time']).values\n",
    "distances_mi = df['Distance(mi)'].values\n",
    "ids = df['ID'].values\n",
    "MILE_TO_KM = 1.60934\n",
    "\n",
    "propagation_edges = []\n",
    "time_window = pd.Timedelta(hours=1)\n",
    "for i in tqdm(range(1, len(df))):\n",
    "    for j in range(i - 1, -1, -1):\n",
    "        if (times[i] - times[j]) > time_window: break\n",
    "        dist_km = great_circle(coords[i], coords[j]).km\n",
    "        if dist_km <= (distances_mi[j] * MILE_TO_KM):\n",
    "            propagation_edges.append((ids[j], ids[i]))\n",
    "\n",
    "G_propagation = nx.DiGraph()\n",
    "G_propagation.add_edges_from(propagation_edges)\n",
    "df['In_Degree'] = df['ID'].map(G_propagation.in_degree).fillna(0)\n",
    "df['Out_Degree'] = df['ID'].map(G_propagation.out_degree).fillna(0)\n",
    "print(\"-> 'In_Degree' ve 'Out_Degree' özellikleri oluşturuldu.\\n\")"
   ]
  },
  {
   "cell_type": "code",
   "execution_count": null,
   "id": "d5e4de06",
   "metadata": {},
   "outputs": [],
   "source": [
    "# --- Adım 2: Nihai Modelleme ---\n",
    "print(\"--- Nihai Modelleme Aşaması ---\")\n",
    "\n",
    "\n",
    "cols_to_drop = [\n",
    "    'ID', 'Source', 'Description', 'Street', 'City', 'County', 'State', 'Zipcode',\n",
    "    'Country', 'Timezone', 'Airport_Code', 'Weather_Timestamp', 'Start_Time',\n",
    "    'End_Time', 'Start_Lat', 'Start_Lng', 'Weather_Condition', 'Wind_Direction',\n",
    "    'Civil_Twilight', 'Nautical_Twilight', 'Astronomical_Twilight', 'Distance(mi)'\n",
    "]\n",
    "df_model = df.drop(columns=[col for col in cols_to_drop if col in df.columns])\n",
    "\n",
    "X = df_model.drop('Severity', axis=1)\n",
    "y = df_model['Severity']\n",
    "X = pd.get_dummies(X, drop_first=True)\n",
    "\n",
    "print(f\"Nihai model için özellik sayısı: {X.shape[1]}\")\n",
    "\n",
    "X_train, X_test, y_train, y_test = train_test_split(X, y, test_size=0.2, random_state=42, stratify=y)\n",
    "print(f\"Veri {len(X_train)} eğitim, {len(X_test)} test satırına ayrıldı.\")"
   ]
  },
  {
   "cell_type": "markdown",
   "id": "7a20447c",
   "metadata": {},
   "source": [
    "# RandomForest"
   ]
  },
  {
   "cell_type": "code",
   "execution_count": null,
   "id": "32167f90",
   "metadata": {},
   "outputs": [],
   "source": [
    "rf_model = RandomForestClassifier(random_state=42, n_jobs=-1)\n",
    "rf_model.fit(X_train, y_train)\n",
    "print(\"Nihai modelin eğitimi tamamlandı.\")\n",
    "\n",
    "# --- Performans Değerlendirmesi ---\n",
    "y_pred = rf_model.predict(X_test)\n",
    "accuracy = accuracy_score(y_test, y_pred)\n",
    "precision = precision_score(y_test, y_pred)\n",
    "recall = recall_score(y_test, y_pred)\n",
    "f1 = f1_score(y_test, y_pred)\n",
    "print(f\"\\nNihai Modelin Doğruluğu: {accuracy:.4f}\")\n",
    "print(f\"Precision: {precision:.4f}\")\n",
    "print(f\"Recall: {recall:.4f}\")\n",
    "print(f\"F1 Score: {f1:.4f}\")\n",
    "print(\"Sınıflandırma Raporu:\")\n",
    "print(classification_report(y_test, y_pred, target_names=['Ciddi Değil', 'Ciddi']))"
   ]
  },
  {
   "cell_type": "code",
   "execution_count": null,
   "id": "66d270bf",
   "metadata": {},
   "outputs": [],
   "source": [
    "feature_importances = pd.Series(rf_model.feature_importances_, index=X.columns)\n",
    "\n",
    "# En önemli 20 özelliği al ve sırala\n",
    "top_20_features = feature_importances.nlargest(20)\n",
    "\n",
    "# Görselleştirme\n",
    "plt.figure(figsize=(12, 10))\n",
    "sns.barplot(x=top_20_features, y=top_20_features.index)\n",
    "plt.title(f'Model için En Önemli 20 Özellik (Feature Importance)', fontsize=16)\n",
    "plt.xlabel('Önem Skoru', fontsize=12)\n",
    "plt.ylabel('Özellikler', fontsize=12)\n",
    "plt.show()"
   ]
  },
  {
   "cell_type": "markdown",
   "id": "d084d0cf",
   "metadata": {},
   "source": [
    "# XGBoost"
   ]
  },
  {
   "cell_type": "code",
   "execution_count": null,
   "id": "f933ebfe",
   "metadata": {},
   "outputs": [],
   "source": [
    "from xgboost import XGBClassifier\n",
    "from sklearn.metrics import accuracy_score, precision_score, recall_score, f1_score, classification_report\n",
    "\n",
    "xgb_model = XGBClassifier(random_state=42, n_jobs=-1)\n",
    "# Convert pandas DataFrames to NumPy arrays\n",
    "xgb_model.fit(X_train.values, y_train.values)\n",
    "print(\"Nihai modelin eğitimi tamamlandı.\")\n",
    "\n",
    "# --- Performans Değerlendirmesi ---\n",
    "y_pred = xgb_model.predict(X_test.values)\n",
    "accuracy = accuracy_score(y_test.values, y_pred)\n",
    "precision = precision_score(y_test.values, y_pred)\n",
    "recall = recall_score(y_test.values, y_pred)\n",
    "f1 = f1_score(y_test.values, y_pred)\n",
    "\n",
    "print(f\"\\nNihai Modelin Doğruluğu: {accuracy:.4f}\")\n",
    "print(f\"Precision: {precision:.4f}\")\n",
    "print(f\"Recall: {recall:.4f}\")\n",
    "print(f\"F1 Score: {f1:.4f}\")\n",
    "print(\"Sınıflandırma Raporu:\")\n",
    "print(classification_report(y_test.values, y_pred, target_names=['Ciddi Değil', 'Ciddi']))"
   ]
  },
  {
   "cell_type": "code",
   "execution_count": null,
   "id": "c20fc485",
   "metadata": {},
   "outputs": [],
   "source": [
    "feature_importances = pd.Series(xgb_model.feature_importances_, index=X.columns)\n",
    "\n",
    "# En önemli 20 özelliği al ve sırala\n",
    "top_20_features = feature_importances.nlargest(20)\n",
    "\n",
    "# Görselleştirme\n",
    "plt.figure(figsize=(12, 10))\n",
    "sns.barplot(x=top_20_features, y=top_20_features.index)\n",
    "plt.title(f'Model için En Önemli 20 Özellik (Feature Importance)', fontsize=16)\n",
    "plt.xlabel('Önem Skoru', fontsize=12)\n",
    "plt.ylabel('Özellikler', fontsize=12)\n",
    "plt.show()"
   ]
  }
 ],
 "metadata": {
  "language_info": {
   "name": "python"
  }
 },
 "nbformat": 4,
 "nbformat_minor": 5
}
